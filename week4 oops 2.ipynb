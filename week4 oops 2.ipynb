{
 "cells": [
  {
   "cell_type": "markdown",
   "id": "55900043-ba89-4b7d-93d0-76a0df5996b6",
   "metadata": {},
   "source": [
    "Ans1) Abstraction is the process by which we can hides all unnecessary detail about an object and can show only relevant datas in order to reduce complexity and increase efficiency."
   ]
  },
  {
   "cell_type": "code",
   "execution_count": 6,
   "id": "a49ea28f-0fc8-42d9-baa8-98aa4082cc57",
   "metadata": {},
   "outputs": [],
   "source": [
    "import abc\n",
    "class information:\n",
    "    @abc.abstractmethod\n",
    "    def student_detail(self):\n",
    "        pass\n",
    "class student(information):\n",
    "    def student_detail(self):\n",
    "        return \"this will give std detail\"  \n",
    "class detail(student):\n",
    "    def student_detail(self):\n",
    "        return (\"name-ayush singh\",\"DOB = 30/03/1999\",\"course = data science\")\n",
    "    \n",
    "Dt = detail()\n",
    "St = student()\n",
    "In = information()"
   ]
  },
  {
   "cell_type": "code",
   "execution_count": 7,
   "id": "7e85686c-febe-4e4d-a6ff-2d759e22af03",
   "metadata": {},
   "outputs": [
    {
     "data": {
      "text/plain": [
       "('name-ayush singh', 'DOB = 30/03/1999', 'course = data science')"
      ]
     },
     "execution_count": 7,
     "metadata": {},
     "output_type": "execute_result"
    }
   ],
   "source": [
    "Dt.student_detail()"
   ]
  },
  {
   "cell_type": "code",
   "execution_count": 8,
   "id": "a5db8bea-8bf2-4326-878f-ac76f425b919",
   "metadata": {},
   "outputs": [
    {
     "data": {
      "text/plain": [
       "'this will give std detail'"
      ]
     },
     "execution_count": 8,
     "metadata": {},
     "output_type": "execute_result"
    }
   ],
   "source": [
    "St.student_detail()"
   ]
  },
  {
   "cell_type": "markdown",
   "id": "74c68484-d312-4fd4-8096-78bdb9599212",
   "metadata": {},
   "source": [
    "Ans2) Abstraction and encapsulation are two important and diffrent concepts in OOP and their purposes are:-  \n",
    "Abstraction focuses on representing the essential features of an object while hiding the implementation details. It allows us to create abstract classes or interfaces that define a blueprint for derived classes to follow.  \n",
    "Encapsulation, on the other hand, focuses on bundling data and methods together within a class and controlling access to them. It ensures that the internal state and behavior of an object are encapsulated and accessible only through well-defined interfaces. "
   ]
  },
  {
   "cell_type": "code",
   "execution_count": 20,
   "id": "27eb2e26-c227-4931-9f96-c55a139e35b5",
   "metadata": {},
   "outputs": [],
   "source": [
    "#Encapsulation Example\n",
    "class bank_balance:\n",
    "    \n",
    "    def __init__(self , balance):\n",
    "        self.__balance = balance\n",
    "        \n",
    "    def deposit(self,amount):\n",
    "        self.__balance = self.__balance + amount\n",
    "        \n",
    "    \n",
    "    def withdraw(self,amount):\n",
    "        if amount > self.__balance:\n",
    "            return 'insufficient balance'\n",
    "        else:\n",
    "            self.__balance= self.__balance - amount\n",
    "            \n",
    "        \n",
    "    def get_balance(self):\n",
    "        return self.__balance\n",
    "    \n",
    "ayush = bank_balance(5000)"
   ]
  },
  {
   "cell_type": "code",
   "execution_count": 21,
   "id": "3927e805-aca6-4a0d-935d-2a0d93831da3",
   "metadata": {},
   "outputs": [
    {
     "data": {
      "text/plain": [
       "5000"
      ]
     },
     "execution_count": 21,
     "metadata": {},
     "output_type": "execute_result"
    }
   ],
   "source": [
    "ayush.get_balance()"
   ]
  },
  {
   "cell_type": "code",
   "execution_count": 22,
   "id": "c5c266b9-86fb-475c-8eea-399241667015",
   "metadata": {},
   "outputs": [],
   "source": [
    "ayush.deposit(400)"
   ]
  },
  {
   "cell_type": "code",
   "execution_count": 23,
   "id": "a2bc2d2a-3070-4918-bf9a-3ebda5cc7f9a",
   "metadata": {},
   "outputs": [
    {
     "data": {
      "text/plain": [
       "5400"
      ]
     },
     "execution_count": 23,
     "metadata": {},
     "output_type": "execute_result"
    }
   ],
   "source": [
    "ayush.get_balance()"
   ]
  },
  {
   "cell_type": "code",
   "execution_count": 24,
   "id": "b98e5be1-05ec-4f95-b107-a7e4691129c3",
   "metadata": {},
   "outputs": [],
   "source": [
    "ayush.withdraw(870)"
   ]
  },
  {
   "cell_type": "code",
   "execution_count": 25,
   "id": "eb808534-43a2-47d5-abd2-c1c3116af702",
   "metadata": {},
   "outputs": [
    {
     "data": {
      "text/plain": [
       "4530"
      ]
     },
     "execution_count": 25,
     "metadata": {},
     "output_type": "execute_result"
    }
   ],
   "source": [
    "ayush.get_balance()"
   ]
  },
  {
   "cell_type": "code",
   "execution_count": 27,
   "id": "f3c43df9-58c9-4b4d-9a59-f28f56bd1049",
   "metadata": {},
   "outputs": [],
   "source": [
    "#Abstraction example\n",
    "from abc import ABC, abstractmethod\n",
    "\n",
    "class Account(ABC):\n",
    "    def __init__(self, balance):\n",
    "        self.balance = balance\n",
    "\n",
    "    @abstractmethod\n",
    "    def display_balance(self):\n",
    "        pass\n",
    "\n",
    "    @abstractmethod\n",
    "    def perform_transaction(self, amount):\n",
    "        pass\n",
    "\n",
    "class BankAccount(Account):\n",
    "    def display_balance(self):\n",
    "        return(\"Account Balance:\", self.balance)\n",
    "\n",
    "    def perform_transaction(self, amount):\n",
    "        if amount >= 0:\n",
    "            self.deposit(amount)\n",
    "        else:\n",
    "            self.withdraw(abs(amount))\n",
    "\n",
    "    def deposit(self, amount):\n",
    "        self.balance += amount\n",
    "\n",
    "    def withdraw(self, amount):\n",
    "        if amount <= self.balance:\n",
    "            self.balance -= amount\n",
    "        else:\n",
    "            print(\"Insufficient funds\")\n",
    "            \n",
    "veer = BankAccount(5000)"
   ]
  },
  {
   "cell_type": "code",
   "execution_count": 28,
   "id": "ab161bcf-dcd1-4cd5-98ab-fccb869be16d",
   "metadata": {},
   "outputs": [
    {
     "data": {
      "text/plain": [
       "('Account Balance:', 5000)"
      ]
     },
     "execution_count": 28,
     "metadata": {},
     "output_type": "execute_result"
    }
   ],
   "source": [
    "veer.display_balance()"
   ]
  },
  {
   "cell_type": "code",
   "execution_count": 29,
   "id": "98b2f7f0-8ae1-4453-b2af-4e1903e02335",
   "metadata": {},
   "outputs": [],
   "source": [
    "veer.deposit(5600)"
   ]
  },
  {
   "cell_type": "code",
   "execution_count": 30,
   "id": "637c31bb-dc76-4c00-80d9-25d8556a494d",
   "metadata": {},
   "outputs": [
    {
     "data": {
      "text/plain": [
       "('Account Balance:', 10600)"
      ]
     },
     "execution_count": 30,
     "metadata": {},
     "output_type": "execute_result"
    }
   ],
   "source": [
    "veer.display_balance()"
   ]
  },
  {
   "cell_type": "code",
   "execution_count": 31,
   "id": "e10c9605-e6c0-4a6d-86a7-b1472691bd41",
   "metadata": {},
   "outputs": [],
   "source": [
    "veer.withdraw(2314)"
   ]
  },
  {
   "cell_type": "code",
   "execution_count": 32,
   "id": "522cefb5-751f-4ea2-87e9-1ced1cebcce6",
   "metadata": {},
   "outputs": [
    {
     "data": {
      "text/plain": [
       "('Account Balance:', 8286)"
      ]
     },
     "execution_count": 32,
     "metadata": {},
     "output_type": "execute_result"
    }
   ],
   "source": [
    "veer.display_balance()"
   ]
  },
  {
   "cell_type": "markdown",
   "id": "d3c43164-20b1-49e3-880f-f7b1dbe34472",
   "metadata": {},
   "source": [
    "Ans3) The \"abc\" module in Python stands for \"Abstract Base Classes.\" It provides infrastructure for defining abstract base classes, which are classes that cannot be instantiated and serve as a blueprint for derived classes.They define a common interface for subclasses to follow.  \n",
    "The abc module is used to enforce a certain structure or behavior in derived classes. By defining abstract methods or properties, it ensures that subclasses implement them. Abstract base classes help in achieving abstraction and provide a way to define common interfaces for related classes. They allow for code reuse, promote consistency, and help in designing modular and extensible code."
   ]
  },
  {
   "cell_type": "markdown",
   "id": "47bbe860-eaf5-44e4-9937-1703863b2805",
   "metadata": {},
   "source": [
    "Ans4) An abstraction can be achieved using classes. A class is used to group all the data members and member functions into a single unit by using the access specifiers. A class has the responsibility to determine which data member is to be visible outside and which is not."
   ]
  },
  {
   "cell_type": "markdown",
   "id": "def70daf-56da-4737-8492-f8d17dae1ba2",
   "metadata": {},
   "source": [
    "Ans5) No, we cannot create an instance of an abstract class in Python. An abstract class is a class that is meant to be a blueprint for derived classes and cannot be instantiated directly. It serves as a template for subclasses to inherit from and implement its abstract methods.\n",
    "\n",
    "Abstract classes are created using the abc module in Python and contain one or more abstract methods, marked with the @abstractmethod decorator. These abstract methods have no implementation in the abstract class and must be implemented in the derived classes.\n",
    "\n",
    "Attempting to create an instance of an abstract class directly will result in a TypeError. Abstract classes are designed to provide a common interface and structure for derived classes, but they themselves cannot be instantiated as they lack complete implementation details."
   ]
  },
  {
   "cell_type": "code",
   "execution_count": null,
   "id": "a1677867-0a3c-48a7-a591-655507e76d30",
   "metadata": {},
   "outputs": [],
   "source": []
  }
 ],
 "metadata": {
  "kernelspec": {
   "display_name": "Python 3 (ipykernel)",
   "language": "python",
   "name": "python3"
  },
  "language_info": {
   "codemirror_mode": {
    "name": "ipython",
    "version": 3
   },
   "file_extension": ".py",
   "mimetype": "text/x-python",
   "name": "python",
   "nbconvert_exporter": "python",
   "pygments_lexer": "ipython3",
   "version": "3.10.8"
  }
 },
 "nbformat": 4,
 "nbformat_minor": 5
}
